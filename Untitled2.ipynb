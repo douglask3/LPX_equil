{
 "cells": [
  {
   "cell_type": "code",
   "execution_count": 1046,
   "id": "ecc1e8d7",
   "metadata": {},
   "outputs": [],
   "source": [
    "\n",
    "source('../gitProjectExtras/gitBasedProjects/R/sourceAllLibs.r')\n",
    "sourceAllLibs('../gitProjectExtras/gitBasedProjects/R/', trace = FALSE)\n",
    "sourceAllLibs('../rasterextrafuns/rasterPlotFunctions/R/', trace = FALSE)\n",
    "sourceAllLibs('../rasterextrafuns/rasterExtras/R/', trace = FALSE)\n",
    "\n",
    "library(raster)\n",
    "#library(rasterExtras)\n",
    "library(fields)\n",
    "sourceAllLibs(\"libs/\", trace = FALSE)\n",
    "graphics.off()\n",
    "\n",
    "vars = c(\"fpc\", \"height\", \"evergreen\")\n",
    "\n",
    "xlims = list(c(0, 1), c(0, 120), c(0, 1))\n",
    "transs  = list(logit, logN, logit)\n",
    "itranss = list(logistic, exp, logistic)\n",
    "ptranss = list(blankFun, function(x) 1-exp(-x*0.1), blankFun)\n",
    "pitranss = list(blankFun, function(x) -10*log(1-x), blankFun)\n",
    "\n",
    "ForestCentres = list(CNRM   = list(c(-70, -0), c(-53, -08), c(-60, -10), c(-67, -14)),\n",
    "                     FGOALs = list(c(-70, -0), c(-55, -08), c(-60, -10), c(-67, -14)),\n",
    "                     HADGEM = list(c(-70, -0), c(-52, -07), c(-67, -10)),\n",
    "                     MIROC  = list(c(-75, -2), c(-51, -06), c(-61, -08), c(-66, -13)),\n",
    "                     ENS    = list(c(-72, -1), c(-54, -09), c(-61, -09), c(-66, -14)))"
   ]
  },
  {
   "cell_type": "code",
   "execution_count": 71,
   "id": "3b3ceb9b",
   "metadata": {},
   "outputs": [],
   "source": [
    "dir = 'outputs/'\n",
    "models = list.files(dir)\n",
    "model = models[1]\n",
    "ForestCentre = ForestCentres[[1]]"
   ]
  },
  {
   "cell_type": "code",
   "execution_count": 72,
   "id": "fd2e702e",
   "metadata": {},
   "outputs": [
    {
     "data": {
      "text/html": [
       "<style>\n",
       ".list-inline {list-style: none; margin:0; padding: 0}\n",
       ".list-inline>li {display: inline-block}\n",
       ".list-inline>li:not(:last-child)::after {content: \"\\00b7\"; padding: 0 .5ex}\n",
       "</style>\n",
       "<ol class=list-inline><li>'evergreen.nc'</li><li>'fpc.nc'</li><li>'gdd.nc'</li><li>'height.nc'</li><li>'temperate.nc'</li><li>'tropical.nc'</li></ol>\n"
      ],
      "text/latex": [
       "\\begin{enumerate*}\n",
       "\\item 'evergreen.nc'\n",
       "\\item 'fpc.nc'\n",
       "\\item 'gdd.nc'\n",
       "\\item 'height.nc'\n",
       "\\item 'temperate.nc'\n",
       "\\item 'tropical.nc'\n",
       "\\end{enumerate*}\n"
      ],
      "text/markdown": [
       "1. 'evergreen.nc'\n",
       "2. 'fpc.nc'\n",
       "3. 'gdd.nc'\n",
       "4. 'height.nc'\n",
       "5. 'temperate.nc'\n",
       "6. 'tropical.nc'\n",
       "\n",
       "\n"
      ],
      "text/plain": [
       "[1] \"evergreen.nc\" \"fpc.nc\"       \"gdd.nc\"       \"height.nc\"    \"temperate.nc\"\n",
       "[6] \"tropical.nc\" "
      ]
     },
     "metadata": {},
     "output_type": "display_data"
    }
   ],
   "source": [
    "experiments = list.files(paste0(dir, model, '/'))\n",
    "experiment = experiments[1]\n",
    "list.files(paste(dir, model, experiment, '', sep = '/'))"
   ]
  },
  {
   "cell_type": "code",
   "execution_count": 77,
   "id": "00c76606",
   "metadata": {},
   "outputs": [
    {
     "data": {
      "text/html": [
       "<ol>\n",
       "\t<li><style>\n",
       ".dl-inline {width: auto; margin:0; padding: 0}\n",
       ".dl-inline>dt, .dl-inline>dd {float: none; width: auto; display: inline-block}\n",
       ".dl-inline>dt::after {content: \":\\0020\"; padding-right: .5ex}\n",
       ".dl-inline>dt:not(:first-of-type) {padding-left: .5ex}\n",
       "</style><dl class=dl-inline><dt>1</dt><dd>0.999988257884979</dd><dt>2</dt><dd>0.987645864486694</dd><dt>3</dt><dd>0.997625470161438</dd><dt>4</dt><dd>0.999996662139893</dd></dl>\n",
       "</li>\n",
       "\t<li><style>\n",
       ".dl-inline {width: auto; margin:0; padding: 0}\n",
       ".dl-inline>dt, .dl-inline>dd {float: none; width: auto; display: inline-block}\n",
       ".dl-inline>dt::after {content: \":\\0020\"; padding-right: .5ex}\n",
       ".dl-inline>dt:not(:first-of-type) {padding-left: .5ex}\n",
       "</style><dl class=dl-inline><dt>1</dt><dd>92.5279235839844</dd><dt>2</dt><dd>11.8417892456055</dd><dt>3</dt><dd>10.856333732605</dd><dt>4</dt><dd>19.1200389862061</dd></dl>\n",
       "</li>\n",
       "\t<li><style>\n",
       ".dl-inline {width: auto; margin:0; padding: 0}\n",
       ".dl-inline>dt, .dl-inline>dd {float: none; width: auto; display: inline-block}\n",
       ".dl-inline>dt::after {content: \":\\0020\"; padding-right: .5ex}\n",
       ".dl-inline>dt:not(:first-of-type) {padding-left: .5ex}\n",
       "</style><dl class=dl-inline><dt>1</dt><dd>0.999985694885254</dd><dt>2</dt><dd>0.99995493888855</dd><dt>3</dt><dd>0.999968528747559</dd><dt>4</dt><dd>0.999980330467224</dd></dl>\n",
       "</li>\n",
       "</ol>\n"
      ],
      "text/latex": [
       "\\begin{enumerate}\n",
       "\\item \\begin{description*}\n",
       "\\item[1] 0.999988257884979\n",
       "\\item[2] 0.987645864486694\n",
       "\\item[3] 0.997625470161438\n",
       "\\item[4] 0.999996662139893\n",
       "\\end{description*}\n",
       "\n",
       "\\item \\begin{description*}\n",
       "\\item[1] 92.5279235839844\n",
       "\\item[2] 11.8417892456055\n",
       "\\item[3] 10.856333732605\n",
       "\\item[4] 19.1200389862061\n",
       "\\end{description*}\n",
       "\n",
       "\\item \\begin{description*}\n",
       "\\item[1] 0.999985694885254\n",
       "\\item[2] 0.99995493888855\n",
       "\\item[3] 0.999968528747559\n",
       "\\item[4] 0.999980330467224\n",
       "\\end{description*}\n",
       "\n",
       "\\end{enumerate}\n"
      ],
      "text/markdown": [
       "1. 1\n",
       ":   0.9999882578849792\n",
       ":   0.9876458644866943\n",
       ":   0.9976254701614384\n",
       ":   0.999996662139893\n",
       "\n",
       "\n",
       "2. 1\n",
       ":   92.52792358398442\n",
       ":   11.84178924560553\n",
       ":   10.8563337326054\n",
       ":   19.1200389862061\n",
       "\n",
       "\n",
       "3. 1\n",
       ":   0.9999856948852542\n",
       ":   0.999954938888553\n",
       ":   0.9999685287475594\n",
       ":   0.999980330467224\n",
       "\n",
       "\n",
       "\n",
       "\n"
      ],
      "text/plain": [
       "[[1]]\n",
       "                                        \n",
       "0.9999883 0.9876459 0.9976255 0.9999967 \n",
       "\n",
       "[[2]]\n",
       "                                    \n",
       "92.52792 11.84179 10.85633 19.12004 \n",
       "\n",
       "[[3]]\n",
       "                                        \n",
       "0.9999857 0.9999549 0.9999685 0.9999803 \n"
      ]
     },
     "metadata": {},
     "output_type": "display_data"
    }
   ],
   "source": [
    "dats = suppressWarnings(lapply(vars, function(i) raster(paste0(dir, '/', model, '/', experiment, '/', i, '.nc'))))\n",
    "\n",
    "findBioclimPnts <- function(dat) {\n",
    "    findPnt <- function(pnt)  \n",
    "        dat[cellFromXY(dat, pnt)]\n",
    "    \n",
    "    sapply(ForestCentre, findPnt)    \n",
    "}                              \n",
    "centres = lapply(dats, findBioclimPnts)\n",
    "centres\n",
    "\n",
    "    "
   ]
  },
  {
   "cell_type": "markdown",
   "id": "0a720530",
   "metadata": {},
   "source": [
    "Find centroid"
   ]
  },
  {
   "cell_type": "code",
   "execution_count": 150,
   "id": "2c47c887",
   "metadata": {},
   "outputs": [
    {
     "data": {
      "text/html": [
       "<style>\n",
       ".list-inline {list-style: none; margin:0; padding: 0}\n",
       ".list-inline>li {display: inline-block}\n",
       ".list-inline>li:not(:last-child)::after {content: \"\\00b7\"; padding: 0 .5ex}\n",
       "</style>\n",
       "<ol class=list-inline><li>8.40904018467572</li><li>3.20161074226462</li><li>10.0712741527211</li></ol>\n"
      ],
      "text/latex": [
       "\\begin{enumerate*}\n",
       "\\item 8.40904018467572\n",
       "\\item 3.20161074226462\n",
       "\\item 10.0712741527211\n",
       "\\end{enumerate*}\n"
      ],
      "text/markdown": [
       "1. 8.40904018467572\n",
       "2. 3.20161074226462\n",
       "3. 10.0712741527211\n",
       "\n",
       "\n"
      ],
      "text/plain": [
       "[1]  8.409040  3.201611 10.071274"
      ]
     },
     "metadata": {},
     "output_type": "display_data"
    },
    {
     "data": {
      "image/png": "[encoded data removed]",
      "text/plain": [
       "plot without title"
      ]
     },
     "metadata": {
      "image/png": {
       "height": 420,
       "width": 420
      }
     },
     "output_type": "display_data"
    }
   ],
   "source": [
    "tcen = mapply(function(F,...) F(...), transs, centres)\n",
    "              \n",
    "## find centre\n",
    "cencen = apply(tcen, 2, function(x) sqrt(mean(x^2)))\n",
    "cencen\n",
    "               \n",
    "               \n",
    "plot(tcen[,1], tcen[,2])\n",
    "points(cencen[1] , cencen[2] , pch = 4)\n"
   ]
  },
  {
   "cell_type": "code",
   "execution_count": 725,
   "id": "d783d1ee",
   "metadata": {},
   "outputs": [
    {
     "data": {
      "text/html": [
       "<table class=\"dataframe\">\n",
       "<caption>A matrix: 2 × 3 of type dbl</caption>\n",
       "<tbody>\n",
       "\t<tr><td>-10.57196</td><td>-10.32683</td><td>-10.88799</td></tr>\n",
       "\t<tr><td> 11.00024</td><td> 14.23327</td><td> 10.99667</td></tr>\n",
       "</tbody>\n",
       "</table>\n"
      ],
      "text/latex": [
       "A matrix: 2 × 3 of type dbl\n",
       "\\begin{tabular}{lll}\n",
       "\t -10.57196 & -10.32683 & -10.88799\\\\\n",
       "\t  11.00024 &  14.23327 &  10.99667\\\\\n",
       "\\end{tabular}\n"
      ],
      "text/markdown": [
       "\n",
       "A matrix: 2 × 3 of type dbl\n",
       "\n",
       "| -10.57196 | -10.32683 | -10.88799 |\n",
       "|  11.00024 |  14.23327 |  10.99667 |\n",
       "\n"
      ],
      "text/plain": [
       "     [,1]      [,2]      [,3]     \n",
       "[1,] -10.57196 -10.32683 -10.88799\n",
       "[2,]  11.00024  14.23327  10.99667"
      ]
     },
     "metadata": {},
     "output_type": "display_data"
    }
   ],
   "source": [
    "continent_range = lapply(dats, function(r) range(r[], na.rm = TRUE))\n",
    "continent_range = mapply(function(i,j) i(j), transs, continent_range)\n",
    "\n"
   ]
  },
  {
   "cell_type": "code",
   "execution_count": 1007,
   "id": "7a80067f",
   "metadata": {},
   "outputs": [],
   "source": [
    "clim = mapply(function(i,j) i(j), transs, dats)\n",
    "clim = layer.apply(clim, function(i) i)[]\n",
    "continent_range = unique(clim)\n",
    "continent_range = continent_range[-1,]\n",
    "                   \n",
    "#continent_range                "
   ]
  },
  {
   "cell_type": "code",
   "execution_count": 1022,
   "id": "1b9f553d",
   "metadata": {
    "scrolled": true
   },
   "outputs": [
    {
     "data": {
      "image/png": "[encoded data removed]",
      "text/plain": [
       "Plot with title \"\""
      ]
     },
     "metadata": {
      "image/png": {
       "height": 240,
       "width": 720
      }
     },
     "output_type": "display_data"
    }
   ],
   "source": [
    "randomBCrange <- function(i, inRange = TRUE, id = NULL) {\n",
    "    if (inRange) {\n",
    "        continent_range = tcen\n",
    "        #bcrange = range(logistic(tcen[,i]))\n",
    "        #bcrange = c(runif(1, 0, bcrange[1]), runif(1, bcrange[2], 1))\n",
    "        #bcrange = logit(bcrange)\n",
    "        #mu = logistic(mean(tcen[,i]))  \n",
    "        #sd = runif(1, 0, 1)\n",
    "        #bcrange = logit(mu) + c(-1, 1) * logit(sd)\n",
    "    } #else {\n",
    "        #bcrangei = logistic(continent_range[,i])\n",
    "        if (is.null(id))\n",
    "            mu = sample(continent_range[,i], 1)#runif(1, bcrangei[1], bcrangei[2])\n",
    "        else\n",
    "            mu = continent_range[id, i]\n",
    "        #print(mu)\n",
    "        #mu = logistic(mu)\n",
    "        sd = runif(1, 0, 1)\n",
    "        bcrange = mu + c(-1, 1) * logit(sd)\n",
    "        bcrange = sort(bcrange)\n",
    "        #crangei = logistic(continent_range[,i])\n",
    "        #bcrange = c(1, 0)\n",
    "        #while (bcrange[1] >= bcrange[2])\n",
    "        #    bcrange = c(runif(1, 0, bcrangei[2]), runif(1, bcrangei[1], 1))\n",
    "    #}\n",
    "    \n",
    "    \n",
    "    bcrange\n",
    "}\n",
    "#id = sample(1:nrow(continent_range), 1)\n",
    "selectPossibleNiche <- function() {\n",
    "    dis = 2 \n",
    "    id = sample(1:4, 1)\n",
    "    while( max(dis) > 1) {\n",
    "        bcranges = lapply(1:3, randomBCrange, id = id)\n",
    "        dis = testWhereInSphere(bcranges, dats = matrix2list(tcen), list(blankFun))\n",
    "        dis = apply(dis, 1, function(i) sqrt(sum(i^2)))\n",
    "    }\n",
    "    return(bcranges)\n",
    "}\n",
    "bcranges = selectPossibleNiche()\n",
    "\n",
    "shift = sapply(bcranges, mean)\n",
    "scale = sapply(bcranges, diff)/2\n",
    "\n",
    "siftScar <- function(sh, sc, dat, trans)\n",
    "    ((trans(dat)) - sh)/sc\n",
    "sdats = mapply(siftScar, shift, scale, dats, transs)\n",
    "\n",
    "out = sqrt(sum(layer.apply(sdats, function(i) i^2)))<1\n"
   ]
  },
  {
   "cell_type": "code",
   "execution_count": 1023,
   "id": "53a7bc9f",
   "metadata": {},
   "outputs": [],
   "source": [
    "testWhereInSphere <- function(bcranges, dats, transs) {\n",
    "    #print(bcranges)\n",
    "    shift = sapply(bcranges, mean)\n",
    "    scale = sapply(bcranges, diff)/2\n",
    "    \n",
    "    siftScar <- function(sh, sc, dat, trans)\n",
    "        ((trans(dat)) - sh)/sc\n",
    "    sdats = mapply(siftScar, shift, scale, dats, transs)\n",
    "    \n",
    "    if (!is.raster(dats[[1]])) return(sdats)\n",
    "    out = sqrt(sum(layer.apply(sdats, function(i) i^2)))<1\n",
    "    out[out == 0] = NaN\n",
    "    return(out)                              \n",
    "}\n",
    "\n",
    "out = testWhereInSphere(bcranges, dats, transs)\n",
    "\n",
    "                               "
   ]
  },
  {
   "cell_type": "code",
   "execution_count": 1033,
   "id": "bb7c6233",
   "metadata": {},
   "outputs": [],
   "source": [
    "testNiche <- function(bcranges, ForestCentre, ...) {\n",
    "    inSphere = testWhereInSphere(bcranges, ...)\n",
    "    if (is.na(mean(inSphere[], na.rm = TRUE))) {\n",
    "        print(\"broke\")\n",
    "        return(c(0))\n",
    "    }\n",
    "    pol = rasterToPolygons(inSphere, digits = 2, dissolve = TRUE)\n",
    "\n",
    "     \n",
    "    ps = lapply(pol@polygons , slot , \"Polygons\")[[1]]\n",
    "    coords = lapply(ps, function(x) slot(x, \"coords\"))\n",
    "\n",
    "    findPntInPol <- function(pnt){\n",
    "        for (i in 1:length(coords)) {\n",
    "            test = point.in.polygon(pnt[1], pnt[2], coords[[i]][,1], coords[[i]][,2])\n",
    "            if (test) break\n",
    "        }\n",
    "        if (test) return(i) else return(NaN)\n",
    "    }\n",
    "    \n",
    "    Cpols = sapply(ForestCentre, findPntInPol)\n",
    "    if (all(is.na(Cpols))) out = 1 else if (any(is.na(Cpols)))  out = 2 else if (var(Cpols) > 0) out = 3 else out = 4\n",
    "    #if (any(is.na(Cpols)) || var(Cpols) > 0) return(FALSE) else return(TRUE)\n",
    "    return(c(out))\n",
    "}  \n",
    "\n",
    "#bcranges\n",
    "#testNiche(bcranges, ForestCentre, dats, transs)"
   ]
  },
  {
   "cell_type": "code",
   "execution_count": 1053,
   "id": "06bb41d5",
   "metadata": {},
   "outputs": [
    {
     "name": "stdout",
     "output_type": "stream",
     "text": [
      "4 ,4 ,4 ,4 ,3 ,4 ,4 ,4 ,4 ,4 ,4 ,4 ,4 ,4 ,4 ,4 ,4 ,4 ,4 ,4 ,4 ,4 ,4 ,4 ,4 ,4 ,4 ,4 ,4 ,4 ,4 ,3 ,4 ,4 ,4 ,4 ,4 ,4 ,4 ,4 ,4 ,4 ,4 ,4 ,4 ,4 ,4 ,4 ,4 ,4 ,4 ,4 ,4 ,4 ,4 ,4 ,4 ,4 ,4 ,4 ,4 ,4 ,4 ,4 ,4 ,4 ,3 ,4 ,4 ,4 ,4 ,4 ,4 ,4 ,4 ,4 ,4 ,4 ,4 ,4 ,4 ,4 ,4 ,4 ,4 ,4 ,4 ,4 ,4 ,4 ,4 ,4 ,4 ,3 ,4 ,4 ,4 ,4 ,4 ,4 ,4 ,4 ,4 ,4 ,4 ,4 ,4 ,4 ,4 ,3 ,4 ,4 ,4 ,4 ,4 ,4 ,4 ,4 ,4 ,4 ,4 ,3 ,4 ,4 ,3 ,4 ,4 ,3 ,4 ,4 ,4 ,4 ,4 ,4 ,4 ,4 ,4 ,4 ,3 ,4 ,4 ,4 ,4 ,4 ,4 ,4 ,4 ,4 ,3 ,4 ,4 ,4 ,4 ,4 ,4 ,4 ,4 ,4 ,4 ,4 ,4 ,4 ,4 ,4 ,3 ,4 ,4 ,4 ,4 ,4 ,4 ,4 ,4 ,4 ,4 ,4 ,4 ,4 ,4 ,4 ,4 ,4 ,4 ,4 ,4 ,4 ,4 ,4 ,4 ,4 ,4 ,4 ,4 ,4 ,4 ,4 ,4 ,4 ,4 ,4 ,4 ,4 ,4 ,4 ,4 ,3 ,4 ,4 ,4 ,4 ,4 ,4 ,4 ,4 ,4 ,4 ,4 ,4 ,4 ,4 ,3 ,4 ,4 ,4 ,4 ,4 ,4 ,4 ,4 ,4 ,4 ,4 ,4 ,4 ,4 ,4 ,4 ,4 ,4 ,4 ,4 ,4 ,4 ,4 ,4 ,4 ,4 ,4 ,4 ,4 ,4 ,4 ,4 ,4 ,4 ,4 ,4 ,4 ,4 ,4 ,4 ,4 ,4 ,4 ,4 ,4 ,4 ,4 ,4 ,4 ,3 ,4 ,4 ,3 ,4 ,4 ,4 ,4 ,4 ,4 ,4 ,4 ,3 ,4 ,4 ,4 ,4 ,4 ,4 ,4 ,4 ,4 ,4 ,4 ,4 ,4 ,4 ,4 ,4 ,4 ,"
     ]
    }
   ],
   "source": [
    "grab_cache = TRUE\n",
    "testRandomNiche <- function(ntest) {\n",
    "    tfile = paste0(\"temp/randomNicheTest--\", ntest, \".Rd\")\n",
    "    if (file.exists(tfile) && grab_cache) \n",
    "        load(tfile)\n",
    "    else {\n",
    "        #id = sample(1:nrow(continent_range), 1)\n",
    "        bcranges = selectPossibleNiche()#lapply(1:3, randomBCrange, id = id)\n",
    "        test = testNiche(bcranges, ForestCentre, dats, transs)\n",
    "        save(bcranges, test, file = tfile)\n",
    "    }\n",
    "    return(list(bcranges, test))\n",
    "}\n",
    "out = lapply(1:300, testRandomNiche)\n",
    "for (i in out) cat(i[[2]][[1]], ',')\n",
    "#fails = out[sapply(out, function(i) i[[2]] == 0)]\n",
    "#length(fails)\n",
    "#out[[1]]"
   ]
  },
  {
   "cell_type": "code",
   "execution_count": 1054,
   "id": "68d3bcda",
   "metadata": {},
   "outputs": [],
   "source": [
    "addAxis <- function(i, side) {\n",
    "    at = seq(0, 1, length.out = 11)\n",
    "    labels = signif(pitranss[[i]](at), 1)\n",
    "    at = ptranss[[i]](labels)\n",
    "    axis(side, at = at, labels = labels)\n",
    "}"
   ]
  },
  {
   "cell_type": "code",
   "execution_count": 1055,
   "id": "e5091e29",
   "metadata": {},
   "outputs": [
    {
     "name": "stdout",
     "output_type": "stream",
     "text": [
      "[1] 16\n",
      "[1] 16\n",
      "[1] 16\n"
     ]
    },
    {
     "data": {
      "image/png": "[encoded data removed]",
      "text/plain": [
       "plot without title"
      ]
     },
     "metadata": {
      "image/png": {
       "height": 240,
       "width": 720
      }
     },
     "output_type": "display_data"
    }
   ],
   "source": [
    "x = seq(-1, 1, 0.001)\n",
    "y = sqrt(1-x^2)\n",
    "x = c(x, rev(x)); y = c(y, -rev(y))\n",
    "\n",
    "plotNichProb <- function(i, j) {\n",
    "    xc = ptranss[[i]](centres[[i]]); yc = ptranss[[j]](centres[[j]])\n",
    "    plot(xc, yc, xlim = c(0,1), ylim = c(0,1), type = 'n', axes = FALSE, xlab = '', ylab = '')\n",
    "    addAxis(i, 1)\n",
    "    addAxis(j, 2)\n",
    "    mtext(vars[i], side = 1, line = 2)\n",
    "    mtext(vars[j], side = 2, line = 2)\n",
    "    polygon(c(0, 1, 1, 0), c(0, 0, 1, 1), col = '#110033')\n",
    "    \n",
    "\n",
    "    addPoly <- function(fail, col, nc) {\n",
    "        info = fail[[1]]\n",
    "\n",
    "        shiftScale <- function(x, i){\n",
    "            #x = logit(x)\n",
    "            x = (x*diff(info[[i]])/2 + mean(info[[i]]))\n",
    "            x = logistic(x)\n",
    "        }\n",
    "        xt = shiftScale(x, i); yt = shiftScale(y, j)\n",
    "        polygon(xt, yt, col = make.transparent(col, 1-1/nc), border = NA)\n",
    "    }\n",
    "    addPolys <- function(id, col) {\n",
    "        con = out[sapply(out, function(i) i[[2]] == id)]\n",
    "        print(length(con))                 \n",
    "        lapply(con, addPoly, col, length(con))\n",
    "    }\n",
    "    #addPolys(0, 'white')#'#110033')\n",
    "    #addPolys(2, '#FF0000')\n",
    "    addPolys(3, 'white')\n",
    "    points(xc, yc, pch = 4, col = 'red')\n",
    "}\n",
    "options(repr.plot.width=12, repr.plot.height=4)\n",
    "par(mfrow = c(1, 3))\n",
    "nn = plotNichProb(1, 2)\n",
    "nn = plotNichProb(2, 3)\n",
    "nn = plotNichProb(3, 1)"
   ]
  },
  {
   "cell_type": "code",
   "execution_count": 554,
   "id": "67aa3666",
   "metadata": {},
   "outputs": [
    {
     "data": {
      "image/png": "[encoded data removed]",
      "text/plain": [
       "plot without title"
      ]
     },
     "metadata": {
      "image/png": {
       "height": 240,
       "width": 720
      }
     },
     "output_type": "display_data"
    }
   ],
   "source": [
    "par(mfrow = c(1, 3))\n",
    "detail = 3\n",
    "det = 10^detail\n",
    "x = seq(0, 1, 1/det)\n",
    "y = rep(0, length(x))\n",
    "\n",
    "varHist <- function(i) {\n",
    "    for (fail in fails) {\n",
    "        fail = fail[[1]][[i]]\n",
    "        fail = det*round(logistic(fail), 3)\n",
    "        y[fail[1]:fail[2]] =y[fail[1]:fail[2]] +1\n",
    "    }\n",
    "    plot(x, y, type = 'n', xlab = vars[i], ylab = '', axes = FALSE)\n",
    "    polygon(c(0, 1, 1, 0), c(0, 0, max(y), max(y)), col = '#110033')\n",
    "    polygon(c(0, x, 1), c(0, y, 0), col = 'white')\n",
    "    addAxis(i, 1)\n",
    "}\n",
    "nn = lapply(1:3, varHist)"
   ]
  },
  {
   "cell_type": "code",
   "execution_count": 555,
   "id": "db937b4a",
   "metadata": {},
   "outputs": [
    {
     "data": {
      "text/html": [
       "<ol>\n",
       "\t<li><style>\n",
       ".list-inline {list-style: none; margin:0; padding: 0}\n",
       ".list-inline>li {display: inline-block}\n",
       ".list-inline>li:not(:last-child)::after {content: \"\\00b7\"; padding: 0 .5ex}\n",
       "</style>\n",
       "<ol class=list-inline><li>-0.786929344179775</li><li>0.752420426746329</li></ol>\n",
       "</li>\n",
       "\t<li><style>\n",
       ".list-inline {list-style: none; margin:0; padding: 0}\n",
       ".list-inline>li {display: inline-block}\n",
       ".list-inline>li:not(:last-child)::after {content: \"\\00b7\"; padding: 0 .5ex}\n",
       "</style>\n",
       "<ol class=list-inline><li>-1.24102275151929</li><li>0.441781952402227</li></ol>\n",
       "</li>\n",
       "\t<li><style>\n",
       ".list-inline {list-style: none; margin:0; padding: 0}\n",
       ".list-inline>li {display: inline-block}\n",
       ".list-inline>li:not(:last-child)::after {content: \"\\00b7\"; padding: 0 .5ex}\n",
       "</style>\n",
       "<ol class=list-inline><li>-1.36578997545521</li><li>2.27084539026941</li></ol>\n",
       "</li>\n",
       "</ol>\n"
      ],
      "text/latex": [
       "\\begin{enumerate}\n",
       "\\item \\begin{enumerate*}\n",
       "\\item -0.786929344179775\n",
       "\\item 0.752420426746329\n",
       "\\end{enumerate*}\n",
       "\n",
       "\\item \\begin{enumerate*}\n",
       "\\item -1.24102275151929\n",
       "\\item 0.441781952402227\n",
       "\\end{enumerate*}\n",
       "\n",
       "\\item \\begin{enumerate*}\n",
       "\\item -1.36578997545521\n",
       "\\item 2.27084539026941\n",
       "\\end{enumerate*}\n",
       "\n",
       "\\end{enumerate}\n"
      ],
      "text/markdown": [
       "1. 1. -0.786929344179775\n",
       "2. 0.752420426746329\n",
       "\n",
       "\n",
       "\n",
       "2. 1. -1.24102275151929\n",
       "2. 0.441781952402227\n",
       "\n",
       "\n",
       "\n",
       "3. 1. -1.36578997545521\n",
       "2. 2.27084539026941\n",
       "\n",
       "\n",
       "\n",
       "\n",
       "\n"
      ],
      "text/plain": [
       "[[1]]\n",
       "[1] -0.7869293  0.7524204\n",
       "\n",
       "[[2]]\n",
       "[1] -1.241023  0.441782\n",
       "\n",
       "[[3]]\n",
       "[1] -1.365790  2.270845\n"
      ]
     },
     "metadata": {},
     "output_type": "display_data"
    },
    {
     "data": {
      "text/html": [
       "<style>\n",
       ".list-inline {list-style: none; margin:0; padding: 0}\n",
       ".list-inline>li {display: inline-block}\n",
       ".list-inline>li:not(:last-child)::after {content: \"\\00b7\"; padding: 0 .5ex}\n",
       "</style>\n",
       "<ol class=list-inline><li>-0.0172544587167228</li><li>-0.39962039955853</li><li>0.452527707407097</li></ol>\n"
      ],
      "text/latex": [
       "\\begin{enumerate*}\n",
       "\\item -0.0172544587167228\n",
       "\\item -0.39962039955853\n",
       "\\item 0.452527707407097\n",
       "\\end{enumerate*}\n"
      ],
      "text/markdown": [
       "1. -0.0172544587167228\n",
       "2. -0.39962039955853\n",
       "3. 0.452527707407097\n",
       "\n",
       "\n"
      ],
      "text/plain": [
       "[1] -0.01725446 -0.39962040  0.45252771"
      ]
     },
     "metadata": {},
     "output_type": "display_data"
    },
    {
     "data": {
      "text/html": [
       "<style>\n",
       ".list-inline {list-style: none; margin:0; padding: 0}\n",
       ".list-inline>li {display: inline-block}\n",
       ".list-inline>li:not(:last-child)::after {content: \"\\00b7\"; padding: 0 .5ex}\n",
       "</style>\n",
       "<ol class=list-inline><li>0.769674885463052</li><li>0.841402351960757</li><li>1.81831768286231</li></ol>\n"
      ],
      "text/latex": [
       "\\begin{enumerate*}\n",
       "\\item 0.769674885463052\n",
       "\\item 0.841402351960757\n",
       "\\item 1.81831768286231\n",
       "\\end{enumerate*}\n"
      ],
      "text/markdown": [
       "1. 0.769674885463052\n",
       "2. 0.841402351960757\n",
       "3. 1.81831768286231\n",
       "\n",
       "\n"
      ],
      "text/plain": [
       "[1] 0.7696749 0.8414024 1.8183177"
      ]
     },
     "metadata": {},
     "output_type": "display_data"
    },
    {
     "data": {
      "text/html": [
       "<ol>\n",
       "\t<li>NULL</li>\n",
       "\t<li>NULL</li>\n",
       "\t<li>NULL</li>\n",
       "\t<li>NULL</li>\n",
       "</ol>\n"
      ],
      "text/latex": [
       "\\begin{enumerate}\n",
       "\\item NULL\n",
       "\\item NULL\n",
       "\\item NULL\n",
       "\\item NULL\n",
       "\\end{enumerate}\n"
      ],
      "text/markdown": [
       "1. NULL\n",
       "2. NULL\n",
       "3. NULL\n",
       "4. NULL\n",
       "\n",
       "\n"
      ],
      "text/plain": [
       "[[1]]\n",
       "NULL\n",
       "\n",
       "[[2]]\n",
       "NULL\n",
       "\n",
       "[[3]]\n",
       "NULL\n",
       "\n",
       "[[4]]\n",
       "NULL\n"
      ]
     },
     "metadata": {},
     "output_type": "display_data"
    },
    {
     "data": {
      "image/png": "[encoded data removed]",
      "text/plain": [
       "plot without title"
      ]
     },
     "metadata": {
      "image/png": {
       "height": 240,
       "width": 720
      }
     },
     "output_type": "display_data"
    }
   ],
   "source": [
    "bcranges\n",
    "shift = sapply(bcranges, mean)\n",
    "scale = sapply(bcranges, diff)/2\n",
    "shift\n",
    "scale\n",
    "siftScar <- function(sh, sc, dat, trans)\n",
    "    (trans(dat) - sh)/sc\n",
    "sdats = mapply(siftScar, shift, scale, dats, transs)\n",
    "\n",
    "inCircle = sqrt(sum(layer.apply(sdats, function(i) i^2)))<1\n",
    "pol = rasterToPolygons(inCircle, digits = 2, dissolve = TRUE)\n",
    "\n",
    "plot(pol)\n",
    "lapply(ForestCentre, function(i) points(i[1], i[2], pch = 4, lwd = 2, cex = 2))\n",
    "       \n",
    "ps = lapply(pol@polygons , slot , \"Polygons\")[[1]]\n",
    "coords = lapply(ps, function(x) slot(x, \"coords\"))\n",
    "\n",
    "findPntInPol <- function(pnt){\n",
    "    for (i in 1:length(coords)) {\n",
    "        test = point.in.polygon(pnt[1], pnt[2], coords[[i]][,1], coords[[i]][,2])\n",
    "        if (test) break\n",
    "    }\n",
    "    if (test) return(i) else return(NaN)\n",
    "}  \n",
    "Cpols = sapply(ForestCentre, findPntInPol)\n",
    "#if (any(is.na(Cpols)) || var(Cpol) > 0) "
   ]
  },
  {
   "cell_type": "code",
   "execution_count": 556,
   "id": "ec1bbc7e",
   "metadata": {},
   "outputs": [
    {
     "data": {
      "text/html": [
       "<ol>\n",
       "\t<li>NULL</li>\n",
       "\t<li>NULL</li>\n",
       "\t<li>NULL</li>\n",
       "\t<li>NULL</li>\n",
       "</ol>\n"
      ],
      "text/latex": [
       "\\begin{enumerate}\n",
       "\\item NULL\n",
       "\\item NULL\n",
       "\\item NULL\n",
       "\\item NULL\n",
       "\\end{enumerate}\n"
      ],
      "text/markdown": [
       "1. NULL\n",
       "2. NULL\n",
       "3. NULL\n",
       "4. NULL\n",
       "\n",
       "\n"
      ],
      "text/plain": [
       "[[1]]\n",
       "NULL\n",
       "\n",
       "[[2]]\n",
       "NULL\n",
       "\n",
       "[[3]]\n",
       "NULL\n",
       "\n",
       "[[4]]\n",
       "NULL\n"
      ]
     },
     "metadata": {},
     "output_type": "display_data"
    },
    {
     "data": {
      "text/html": [
       "<style>\n",
       ".list-inline {list-style: none; margin:0; padding: 0}\n",
       ".list-inline>li {display: inline-block}\n",
       ".list-inline>li:not(:last-child)::after {content: \"\\00b7\"; padding: 0 .5ex}\n",
       "</style>\n",
       "<ol class=list-inline><li>NaN</li><li>NaN</li><li>NaN</li><li>NaN</li></ol>\n"
      ],
      "text/latex": [
       "\\begin{enumerate*}\n",
       "\\item NaN\n",
       "\\item NaN\n",
       "\\item NaN\n",
       "\\item NaN\n",
       "\\end{enumerate*}\n"
      ],
      "text/markdown": [
       "1. NaN\n",
       "2. NaN\n",
       "3. NaN\n",
       "4. NaN\n",
       "\n",
       "\n"
      ],
      "text/plain": [
       "[1] NaN NaN NaN NaN"
      ]
     },
     "metadata": {},
     "output_type": "display_data"
    },
    {
     "data": {
      "image/png": "[encoded data removed]",
      "text/plain": [
       "plot without title"
      ]
     },
     "metadata": {
      "image/png": {
       "height": 240,
       "width": 720
      }
     },
     "output_type": "display_data"
    }
   ],
   "source": [
    "i = 1\n",
    "dat = transs[[1]](dats[[1]])\n",
    "minD = min(tcen[,i]); maxD = max(tcen[,i])\n",
    "env = (dat > bcrange[1]) & (dat < bcrange[2])\n",
    "env[env == 0] = NaN\n",
    "#plot(env)\n",
    "pol = rasterToPolygons(env, digits = 2, dissolve = TRUE)\n",
    "plot(pol)\n",
    "lapply(ForestCentre, function(i) points(i[1], i[2], pch = 4, lwd = 2, cex = 2))\n",
    "       \n",
    "ps = lapply(pol@polygons , slot , \"Polygons\")[[1]]\n",
    "coords = lapply(ps, function(x) slot(x, \"coords\"))\n",
    "\n",
    "findPntInPol <- function(pnt){\n",
    "    for (i in 1:length(coords)) {\n",
    "        test = point.in.polygon(pnt[1], pnt[2], coords[[i]][,1], coords[[i]][,2])\n",
    "        if (test) break\n",
    "    }\n",
    "    if (test) return(i) else return(NaN)\n",
    "}  \n",
    "Cpols = sapply(ForestCentre, findPntInPol)\n",
    "Cpols"
   ]
  },
  {
   "cell_type": "code",
   "execution_count": 267,
   "id": "eca22a1e",
   "metadata": {
    "scrolled": false
   },
   "outputs": [
    {
     "data": {
      "text/html": [
       "<style>\n",
       ".list-inline {list-style: none; margin:0; padding: 0}\n",
       ".list-inline>li {display: inline-block}\n",
       ".list-inline>li:not(:last-child)::after {content: \"\\00b7\"; padding: 0 .5ex}\n",
       "</style>\n",
       "<ol class=list-inline><li>NaN</li><li>NaN</li><li>NaN</li><li>NaN</li></ol>\n"
      ],
      "text/latex": [
       "\\begin{enumerate*}\n",
       "\\item NaN\n",
       "\\item NaN\n",
       "\\item NaN\n",
       "\\item NaN\n",
       "\\end{enumerate*}\n"
      ],
      "text/markdown": [
       "1. NaN\n",
       "2. NaN\n",
       "3. NaN\n",
       "4. NaN\n",
       "\n",
       "\n"
      ],
      "text/plain": [
       "[1] NaN NaN NaN NaN"
      ]
     },
     "metadata": {},
     "output_type": "display_data"
    }
   ],
   "source": [
    "#slot(pol, \"polygons\")[[1]]\n",
    "#lapply(p[[1]], function(x) slot(x, \"area\"))\n",
    "ps = lapply(pol@polygons , slot , \"Polygons\")[[1]]\n",
    "coords = lapply(ps, function(x) slot(x, \"coords\"))\n",
    "\n",
    "findPntInPol <- function(pnt){\n",
    "    for (i in 1:length(coords)) {\n",
    "        test = point.in.polygon(pnt[1], pnt[2], coords[[i]][,1], coords[[i]][,2])\n",
    "        if (test) break\n",
    "    }\n",
    "    if (test) return(i) else return(NaN)\n",
    "}  \n",
    "Cpols = sapply(ForestCentre, findPntInPol)\n",
    "Cpols         "
   ]
  },
  {
   "cell_type": "code",
   "execution_count": 75,
   "id": "b217b930",
   "metadata": {},
   "outputs": [
    {
     "data": {
      "image/png": "[encoded data removed]",
      "text/plain": [
       "plot without title"
      ]
     },
     "metadata": {
      "image/png": {
       "height": 420,
       "width": 420
      }
     },
     "output_type": "display_data"
    }
   ],
   "source": [
    "\n",
    "x = ptranss[[i]](centres[,i]); y = ptranss[[j]](centres[,j])\n",
    "plot(x, y, xlim = c(0,1), ylim = c(0,1))"
   ]
  },
  {
   "cell_type": "code",
   "execution_count": null,
   "id": "4648386b",
   "metadata": {},
   "outputs": [],
   "source": [
    "dat = dats[[1]]\n"
   ]
  }
 ],
 "metadata": {
  "kernelspec": {
   "display_name": "R-3.6.3",
   "language": "R",
   "name": "ir363"
  },
  "language_info": {
   "codemirror_mode": "r",
   "file_extension": ".r",
   "mimetype": "text/x-r-source",
   "name": "R",
   "pygments_lexer": "r",
   "version": "3.6.3"
  }
 },
 "nbformat": 4,
 "nbformat_minor": 5
}
