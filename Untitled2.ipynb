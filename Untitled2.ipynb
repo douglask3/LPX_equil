{
 "cells": [
  {
   "cell_type": "code",
   "execution_count": 440,
   "id": "7b9c1821",
   "metadata": {},
   "outputs": [],
   "source": [
    "\n",
    "source('../gitProjectExtras/gitBasedProjects/R/sourceAllLibs.r')\n",
    "sourceAllLibs('../gitProjectExtras/gitBasedProjects/R/', trace = FALSE)\n",
    "sourceAllLibs('../rasterextrafuns/rasterPlotFunctions/R/', trace = FALSE)\n",
    "sourceAllLibs('../rasterextrafuns/rasterExtras/R/', trace = FALSE)\n",
    "\n",
    "library(raster)\n",
    "#library(rasterExtras)\n",
    "library(fields)\n",
    "sourceAllLibs(\"libs/\", trace = FALSE)\n",
    "graphics.off()\n",
    "\n",
    "vars = c(\"fpc\", \"height\", \"evergreen\")\n",
    "\n",
    "xlims = list(c(0, 1), c(0, 120), c(0, 1))\n",
    "transs  = list(logit, logN, logit)\n",
    "itranss = list(logistic, exp, logistic)\n",
    "ptranss = list(blankFun, function(x) 1-exp(-x*0.1), blankFun)\n",
    "pitranss = list(blankFun, function(x) -10*log(1-x), blankFun)\n",
    "\n",
    "ForestCentres = list(CNRM   = list(c(-70, -0), c(-53, -08), c(-60, -10), c(-67, -14)),\n",
    "                     FGOALs = list(c(-70, -0), c(-55, -08), c(-60, -10), c(-67, -14)),\n",
    "                     HADGEM = list(c(-70, -0), c(-52, -07), c(-67, -10)),\n",
    "                     MIROC  = list(c(-75, -2), c(-51, -06), c(-61, -08), c(-66, -13)),\n",
    "                     ENS    = list(c(-72, -1), c(-54, -09), c(-61, -09), c(-66, -14)))"
   ]
  },
  {
   "cell_type": "code",
   "execution_count": 71,
   "id": "3b5485eb",
   "metadata": {},
   "outputs": [],
   "source": [
    "dir = 'outputs/'\n",
    "models = list.files(dir)\n",
    "model = models[1]\n",
    "ForestCentre = ForestCentres[[1]]"
   ]
  },
  {
   "cell_type": "code",
   "execution_count": 72,
   "id": "3102f02a",
   "metadata": {},
   "outputs": [
    {
     "data": {
      "text/html": [
       "<style>\n",
       ".list-inline {list-style: none; margin:0; padding: 0}\n",
       ".list-inline>li {display: inline-block}\n",
       ".list-inline>li:not(:last-child)::after {content: \"\\00b7\"; padding: 0 .5ex}\n",
       "</style>\n",
       "<ol class=list-inline><li>'evergreen.nc'</li><li>'fpc.nc'</li><li>'gdd.nc'</li><li>'height.nc'</li><li>'temperate.nc'</li><li>'tropical.nc'</li></ol>\n"
      ],
      "text/latex": [
       "\\begin{enumerate*}\n",
       "\\item 'evergreen.nc'\n",
       "\\item 'fpc.nc'\n",
       "\\item 'gdd.nc'\n",
       "\\item 'height.nc'\n",
       "\\item 'temperate.nc'\n",
       "\\item 'tropical.nc'\n",
       "\\end{enumerate*}\n"
      ],
      "text/markdown": [
       "1. 'evergreen.nc'\n",
       "2. 'fpc.nc'\n",
       "3. 'gdd.nc'\n",
       "4. 'height.nc'\n",
       "5. 'temperate.nc'\n",
       "6. 'tropical.nc'\n",
       "\n",
       "\n"
      ],
      "text/plain": [
       "[1] \"evergreen.nc\" \"fpc.nc\"       \"gdd.nc\"       \"height.nc\"    \"temperate.nc\"\n",
       "[6] \"tropical.nc\" "
      ]
     },
     "metadata": {},
     "output_type": "display_data"
    }
   ],
   "source": [
    "experiments = list.files(paste0(dir, model, '/'))\n",
    "experiment = experiments[1]\n",
    "list.files(paste(dir, model, experiment, '', sep = '/'))"
   ]
  },
  {
   "cell_type": "code",
   "execution_count": 77,
   "id": "077bb3a4",
   "metadata": {},
   "outputs": [
    {
     "data": {
      "text/html": [
       "<ol>\n",
       "\t<li><style>\n",
       ".dl-inline {width: auto; margin:0; padding: 0}\n",
       ".dl-inline>dt, .dl-inline>dd {float: none; width: auto; display: inline-block}\n",
       ".dl-inline>dt::after {content: \":\\0020\"; padding-right: .5ex}\n",
       ".dl-inline>dt:not(:first-of-type) {padding-left: .5ex}\n",
       "</style><dl class=dl-inline><dt>1</dt><dd>0.999988257884979</dd><dt>2</dt><dd>0.987645864486694</dd><dt>3</dt><dd>0.997625470161438</dd><dt>4</dt><dd>0.999996662139893</dd></dl>\n",
       "</li>\n",
       "\t<li><style>\n",
       ".dl-inline {width: auto; margin:0; padding: 0}\n",
       ".dl-inline>dt, .dl-inline>dd {float: none; width: auto; display: inline-block}\n",
       ".dl-inline>dt::after {content: \":\\0020\"; padding-right: .5ex}\n",
       ".dl-inline>dt:not(:first-of-type) {padding-left: .5ex}\n",
       "</style><dl class=dl-inline><dt>1</dt><dd>92.5279235839844</dd><dt>2</dt><dd>11.8417892456055</dd><dt>3</dt><dd>10.856333732605</dd><dt>4</dt><dd>19.1200389862061</dd></dl>\n",
       "</li>\n",
       "\t<li><style>\n",
       ".dl-inline {width: auto; margin:0; padding: 0}\n",
       ".dl-inline>dt, .dl-inline>dd {float: none; width: auto; display: inline-block}\n",
       ".dl-inline>dt::after {content: \":\\0020\"; padding-right: .5ex}\n",
       ".dl-inline>dt:not(:first-of-type) {padding-left: .5ex}\n",
       "</style><dl class=dl-inline><dt>1</dt><dd>0.999985694885254</dd><dt>2</dt><dd>0.99995493888855</dd><dt>3</dt><dd>0.999968528747559</dd><dt>4</dt><dd>0.999980330467224</dd></dl>\n",
       "</li>\n",
       "</ol>\n"
      ],
      "text/latex": [
       "\\begin{enumerate}\n",
       "\\item \\begin{description*}\n",
       "\\item[1] 0.999988257884979\n",
       "\\item[2] 0.987645864486694\n",
       "\\item[3] 0.997625470161438\n",
       "\\item[4] 0.999996662139893\n",
       "\\end{description*}\n",
       "\n",
       "\\item \\begin{description*}\n",
       "\\item[1] 92.5279235839844\n",
       "\\item[2] 11.8417892456055\n",
       "\\item[3] 10.856333732605\n",
       "\\item[4] 19.1200389862061\n",
       "\\end{description*}\n",
       "\n",
       "\\item \\begin{description*}\n",
       "\\item[1] 0.999985694885254\n",
       "\\item[2] 0.99995493888855\n",
       "\\item[3] 0.999968528747559\n",
       "\\item[4] 0.999980330467224\n",
       "\\end{description*}\n",
       "\n",
       "\\end{enumerate}\n"
      ],
      "text/markdown": [
       "1. 1\n",
       ":   0.9999882578849792\n",
       ":   0.9876458644866943\n",
       ":   0.9976254701614384\n",
       ":   0.999996662139893\n",
       "\n",
       "\n",
       "2. 1\n",
       ":   92.52792358398442\n",
       ":   11.84178924560553\n",
       ":   10.8563337326054\n",
       ":   19.1200389862061\n",
       "\n",
       "\n",
       "3. 1\n",
       ":   0.9999856948852542\n",
       ":   0.999954938888553\n",
       ":   0.9999685287475594\n",
       ":   0.999980330467224\n",
       "\n",
       "\n",
       "\n",
       "\n"
      ],
      "text/plain": [
       "[[1]]\n",
       "                                        \n",
       "0.9999883 0.9876459 0.9976255 0.9999967 \n",
       "\n",
       "[[2]]\n",
       "                                    \n",
       "92.52792 11.84179 10.85633 19.12004 \n",
       "\n",
       "[[3]]\n",
       "                                        \n",
       "0.9999857 0.9999549 0.9999685 0.9999803 \n"
      ]
     },
     "metadata": {},
     "output_type": "display_data"
    }
   ],
   "source": [
    "dats = suppressWarnings(lapply(vars, function(i) raster(paste0(dir, '/', model, '/', experiment, '/', i, '.nc'))))\n",
    "\n",
    "findBioclimPnts <- function(dat) {\n",
    "    findPnt <- function(pnt)  \n",
    "        dat[cellFromXY(dat, pnt)]\n",
    "    \n",
    "    sapply(ForestCentre, findPnt)    \n",
    "}                              \n",
    "centres = lapply(dats, findBioclimPnts)\n",
    "centres\n",
    "\n",
    "    "
   ]
  },
  {
   "cell_type": "markdown",
   "id": "97701202",
   "metadata": {},
   "source": [
    "Find centroid"
   ]
  },
  {
   "cell_type": "code",
   "execution_count": 150,
   "id": "5a639aca",
   "metadata": {},
   "outputs": [
    {
     "data": {
      "text/html": [
       "<style>\n",
       ".list-inline {list-style: none; margin:0; padding: 0}\n",
       ".list-inline>li {display: inline-block}\n",
       ".list-inline>li:not(:last-child)::after {content: \"\\00b7\"; padding: 0 .5ex}\n",
       "</style>\n",
       "<ol class=list-inline><li>8.40904018467572</li><li>3.20161074226462</li><li>10.0712741527211</li></ol>\n"
      ],
      "text/latex": [
       "\\begin{enumerate*}\n",
       "\\item 8.40904018467572\n",
       "\\item 3.20161074226462\n",
       "\\item 10.0712741527211\n",
       "\\end{enumerate*}\n"
      ],
      "text/markdown": [
       "1. 8.40904018467572\n",
       "2. 3.20161074226462\n",
       "3. 10.0712741527211\n",
       "\n",
       "\n"
      ],
      "text/plain": [
       "[1]  8.409040  3.201611 10.071274"
      ]
     },
     "metadata": {},
     "output_type": "display_data"
    },
    {
     "data": {
      "image/png": "[encoded data removed]",
      "text/plain": [
       "plot without title"
      ]
     },
     "metadata": {
      "image/png": {
       "height": 420,
       "width": 420
      }
     },
     "output_type": "display_data"
    }
   ],
   "source": [
    "tcen = mapply(function(F,...) F(...), transs, centres)\n",
    "              \n",
    "## find centre\n",
    "cencen = apply(tcen, 2, function(x) sqrt(mean(x^2)))\n",
    "cencen\n",
    "               \n",
    "               \n",
    "plot(tcen[,1], tcen[,2])\n",
    "points(cencen[1] , cencen[2] , pch = 4)\n"
   ]
  },
  {
   "cell_type": "code",
   "execution_count": 330,
   "id": "3a4a7fe3",
   "metadata": {},
   "outputs": [
    {
     "data": {
      "text/html": [
       "<ol>\n",
       "\t<li><style>\n",
       ".list-inline {list-style: none; margin:0; padding: 0}\n",
       ".list-inline>li {display: inline-block}\n",
       ".list-inline>li:not(:last-child)::after {content: \"\\00b7\"; padding: 0 .5ex}\n",
       "</style>\n",
       "<ol class=list-inline><li>-0.53465679845224</li><li>10.7024974906893</li></ol>\n",
       "</li>\n",
       "\t<li><style>\n",
       ".list-inline {list-style: none; margin:0; padding: 0}\n",
       ".list-inline>li {display: inline-block}\n",
       ".list-inline>li:not(:last-child)::after {content: \"\\00b7\"; padding: 0 .5ex}\n",
       "</style>\n",
       "<ol class=list-inline><li>1.07840447467177</li><li>4.67908635322638</li></ol>\n",
       "</li>\n",
       "\t<li><style>\n",
       ".list-inline {list-style: none; margin:0; padding: 0}\n",
       ".list-inline>li {display: inline-block}\n",
       ".list-inline>li:not(:last-child)::after {content: \"\\00b7\"; padding: 0 .5ex}\n",
       "</style>\n",
       "<ol class=list-inline><li>-1.79535588830019</li><li>10.7928466551896</li></ol>\n",
       "</li>\n",
       "</ol>\n"
      ],
      "text/latex": [
       "\\begin{enumerate}\n",
       "\\item \\begin{enumerate*}\n",
       "\\item -0.53465679845224\n",
       "\\item 10.7024974906893\n",
       "\\end{enumerate*}\n",
       "\n",
       "\\item \\begin{enumerate*}\n",
       "\\item 1.07840447467177\n",
       "\\item 4.67908635322638\n",
       "\\end{enumerate*}\n",
       "\n",
       "\\item \\begin{enumerate*}\n",
       "\\item -1.79535588830019\n",
       "\\item 10.7928466551896\n",
       "\\end{enumerate*}\n",
       "\n",
       "\\end{enumerate}\n"
      ],
      "text/markdown": [
       "1. 1. -0.53465679845224\n",
       "2. 10.7024974906893\n",
       "\n",
       "\n",
       "\n",
       "2. 1. 1.07840447467177\n",
       "2. 4.67908635322638\n",
       "\n",
       "\n",
       "\n",
       "3. 1. -1.79535588830019\n",
       "2. 10.7928466551896\n",
       "\n",
       "\n",
       "\n",
       "\n",
       "\n"
      ],
      "text/plain": [
       "[[1]]\n",
       "[1] -0.5346568 10.7024975\n",
       "\n",
       "[[2]]\n",
       "[1] 1.078404 4.679086\n",
       "\n",
       "[[3]]\n",
       "[1] -1.795356 10.792847\n"
      ]
     },
     "metadata": {},
     "output_type": "display_data"
    }
   ],
   "source": [
    "randomBCrange <- function(i) {\n",
    "    bcrange = logistic(range(tcen[,i]))\n",
    "    bcrange = c(runif(1, 0, bcrange[1]), runif(1, bcrange[2], 1))\n",
    "    bcrange = logit(bcrange)\n",
    "    bcrange\n",
    "}\n",
    "bcranges = lapply(1:3, randomBCrange)"
   ]
  },
  {
   "cell_type": "code",
   "execution_count": 332,
   "id": "007f27da",
   "metadata": {},
   "outputs": [
    {
     "data": {
      "text/html": [
       "<ol>\n",
       "\t<li><style>\n",
       ".list-inline {list-style: none; margin:0; padding: 0}\n",
       ".list-inline>li {display: inline-block}\n",
       ".list-inline>li:not(:last-child)::after {content: \"\\00b7\"; padding: 0 .5ex}\n",
       "</style>\n",
       "<ol class=list-inline><li>-0.53465679845224</li><li>10.7024974906893</li></ol>\n",
       "</li>\n",
       "\t<li><style>\n",
       ".list-inline {list-style: none; margin:0; padding: 0}\n",
       ".list-inline>li {display: inline-block}\n",
       ".list-inline>li:not(:last-child)::after {content: \"\\00b7\"; padding: 0 .5ex}\n",
       "</style>\n",
       "<ol class=list-inline><li>1.07840447467177</li><li>4.67908635322638</li></ol>\n",
       "</li>\n",
       "\t<li><style>\n",
       ".list-inline {list-style: none; margin:0; padding: 0}\n",
       ".list-inline>li {display: inline-block}\n",
       ".list-inline>li:not(:last-child)::after {content: \"\\00b7\"; padding: 0 .5ex}\n",
       "</style>\n",
       "<ol class=list-inline><li>-1.79535588830019</li><li>10.7928466551896</li></ol>\n",
       "</li>\n",
       "</ol>\n"
      ],
      "text/latex": [
       "\\begin{enumerate}\n",
       "\\item \\begin{enumerate*}\n",
       "\\item -0.53465679845224\n",
       "\\item 10.7024974906893\n",
       "\\end{enumerate*}\n",
       "\n",
       "\\item \\begin{enumerate*}\n",
       "\\item 1.07840447467177\n",
       "\\item 4.67908635322638\n",
       "\\end{enumerate*}\n",
       "\n",
       "\\item \\begin{enumerate*}\n",
       "\\item -1.79535588830019\n",
       "\\item 10.7928466551896\n",
       "\\end{enumerate*}\n",
       "\n",
       "\\end{enumerate}\n"
      ],
      "text/markdown": [
       "1. 1. -0.53465679845224\n",
       "2. 10.7024974906893\n",
       "\n",
       "\n",
       "\n",
       "2. 1. 1.07840447467177\n",
       "2. 4.67908635322638\n",
       "\n",
       "\n",
       "\n",
       "3. 1. -1.79535588830019\n",
       "2. 10.7928466551896\n",
       "\n",
       "\n",
       "\n",
       "\n",
       "\n"
      ],
      "text/plain": [
       "[[1]]\n",
       "[1] -0.5346568 10.7024975\n",
       "\n",
       "[[2]]\n",
       "[1] 1.078404 4.679086\n",
       "\n",
       "[[3]]\n",
       "[1] -1.795356 10.792847\n"
      ]
     },
     "metadata": {},
     "output_type": "display_data"
    },
    {
     "data": {
      "text/html": [
       "TRUE"
      ],
      "text/latex": [
       "TRUE"
      ],
      "text/markdown": [
       "TRUE"
      ],
      "text/plain": [
       "[1] TRUE"
      ]
     },
     "metadata": {},
     "output_type": "display_data"
    }
   ],
   "source": [
    "testWhereInSphere <- function(bcranges, dats, transs) {\n",
    "    shift = sapply(bcranges, mean)\n",
    "    scale = sapply(bcranges, diff)/2\n",
    "    \n",
    "    siftScar <- function(sh, sc, dat, trans)\n",
    "        (trans(dat) - sh)/sc\n",
    "    sdats = mapply(siftScar, shift, scale, dats, transs)\n",
    "    out = sqrt(sum(layer.apply(sdats, function(i) i^2)))<1\n",
    "    return(out)                              \n",
    "}\n",
    "\n",
    "testNiche <- function(bcranges, ForestCentre, ...) {\n",
    "    inSphere = testWhereInSphere(bcranges, ...)\n",
    "    pol = rasterToPolygons(inSphere, digits = 2, dissolve = TRUE)\n",
    "\n",
    "     \n",
    "    ps = lapply(pol@polygons , slot , \"Polygons\")[[1]]\n",
    "    coords = lapply(ps, function(x) slot(x, \"coords\"))\n",
    "\n",
    "    findPntInPol <- function(pnt){\n",
    "        for (i in 1:length(coords)) {\n",
    "            test = point.in.polygon(pnt[1], pnt[2], coords[[i]][,1], coords[[i]][,2])\n",
    "            if (test) break\n",
    "        }\n",
    "        if (test) return(i) else return(NaN)\n",
    "    }\n",
    "    \n",
    "    Cpols = sapply(ForestCentre, findPntInPol)\n",
    "    if (any(is.na(Cpols)) || var(Cpols) > 0) return(FALSE) else return(TRUE)\n",
    "}  \n",
    "\n",
    "#bcranges\n",
    "#testNiche(bcranges, ForestCentre, dats, transs)"
   ]
  },
  {
   "cell_type": "code",
   "execution_count": null,
   "id": "c366a10c",
   "metadata": {},
   "outputs": [],
   "source": [
    "grab_cache = TRUE\n",
    "testRandomNiche <- function(ntest) {\n",
    "    print(ntest)\n",
    "    tfile = paste0(\"temp/randomNicheTest-\", ntest, \".Rd\")\n",
    "    if (file.exists(tfile) && grab_cache) \n",
    "        load(tfile)\n",
    "    else {\n",
    "        bcranges = lapply(1:3, randomBCrange)\n",
    "        test = testNiche(bcranges, ForestCentre, dats, transs)\n",
    "        save(bcranges, test, file = tfile)\n",
    "    }\n",
    "    return(list(bcranges, test))\n",
    "}\n",
    "out = lapply(1:1000, testRandomNiche)\n",
    "fails = out[sapply(out, function(i) !i[[2]])]"
   ]
  },
  {
   "cell_type": "code",
   "execution_count": 486,
   "id": "0060b098",
   "metadata": {},
   "outputs": [],
   "source": [
    "addAxis <- function(i, side) {\n",
    "    at = seq(0, 1, length.out = 11)\n",
    "    labels = signif(pitranss[[i]](at), 1)\n",
    "    at = ptranss[[i]](labels)\n",
    "    axis(side, at = at, labels = labels)\n",
    "}"
   ]
  },
  {
   "cell_type": "code",
   "execution_count": 488,
   "id": "516b20be",
   "metadata": {},
   "outputs": [
    {
     "data": {
      "image/png": "[encoded data removed]",
      "text/plain": [
       "plot without title"
      ]
     },
     "metadata": {
      "image/png": {
       "height": 240,
       "width": 720
      }
     },
     "output_type": "display_data"
    }
   ],
   "source": [
    "x = seq(-1, 1, 0.001)\n",
    "y = sqrt(1-x^2)\n",
    "x = c(x, rev(x)); y = c(y, -rev(y))\n",
    "\n",
    "plotNichProb <- function(i, j) {\n",
    "    xc = ptranss[[i]](centres[[i]]); yc = ptranss[[j]](centres[[j]])\n",
    "    plot(xc, yc, xlim = c(0,1), ylim = c(0,1), type = 'n', axes = FALSE, xlab = '', ylab = '')\n",
    "    addAxis(i, 1)\n",
    "    addAxis(j, 2)\n",
    "    mtext(vars[i], side = 1, line = 2)\n",
    "    mtext(vars[j], side = 2, line = 2)\n",
    "    polygon(c(0, 1, 1, 0), c(0, 0, 1, 1), col = '#110033')\n",
    "    \n",
    "\n",
    "    addFail <- function(fail) {\n",
    "        info = fail[[1]]\n",
    "\n",
    "        shiftScale <- function(x, i){\n",
    "            #x = logit(x)\n",
    "            x = (x*diff(info[[i]])/2 + mean(info[[i]]))\n",
    "            x = logistic(x)\n",
    "        }\n",
    "        xt = shiftScale(x, i); yt = shiftScale(y, j)\n",
    "        polygon(xt, yt, col = make.transparent('white', 1 - 1/(length(fail)^3)), border = NA)\n",
    "    }\n",
    "\n",
    "    lapply(fails, addFail)\n",
    "}\n",
    "options(repr.plot.width=12, repr.plot.height=4)\n",
    "par(mfrow = c(1, 3))\n",
    "nn = plotNichProb(1, 2)\n",
    "nn = plotNichProb(2, 3)\n",
    "nn = plotNichProb(3, 1)"
   ]
  },
  {
   "cell_type": "code",
   "execution_count": 476,
   "id": "a0f4cbde",
   "metadata": {},
   "outputs": [
    {
     "data": {
      "text/html": [
       "23"
      ],
      "text/latex": [
       "23"
      ],
      "text/markdown": [
       "23"
      ],
      "text/plain": [
       "[1] 23"
      ]
     },
     "metadata": {},
     "output_type": "display_data"
    }
   ],
   "source": [
    "length(fails)"
   ]
  },
  {
   "cell_type": "code",
   "execution_count": 312,
   "id": "4b4f8442",
   "metadata": {},
   "outputs": [
    {
     "data": {
      "text/html": [
       "<ol>\n",
       "\t<li><style>\n",
       ".list-inline {list-style: none; margin:0; padding: 0}\n",
       ".list-inline>li {display: inline-block}\n",
       ".list-inline>li:not(:last-child)::after {content: \"\\00b7\"; padding: 0 .5ex}\n",
       "</style>\n",
       "<ol class=list-inline><li>-0.530985467128915</li><li>10.8071643184797</li></ol>\n",
       "</li>\n",
       "\t<li><style>\n",
       ".list-inline {list-style: none; margin:0; padding: 0}\n",
       ".list-inline>li {display: inline-block}\n",
       ".list-inline>li:not(:last-child)::after {content: \"\\00b7\"; padding: 0 .5ex}\n",
       "</style>\n",
       "<ol class=list-inline><li>-1.87912849332038</li><li>5.14887250123607</li></ol>\n",
       "</li>\n",
       "\t<li><style>\n",
       ".list-inline {list-style: none; margin:0; padding: 0}\n",
       ".list-inline>li {display: inline-block}\n",
       ".list-inline>li:not(:last-child)::after {content: \"\\00b7\"; padding: 0 .5ex}\n",
       "</style>\n",
       "<ol class=list-inline><li>-0.57093146691237</li><li>10.4235341326716</li></ol>\n",
       "</li>\n",
       "</ol>\n"
      ],
      "text/latex": [
       "\\begin{enumerate}\n",
       "\\item \\begin{enumerate*}\n",
       "\\item -0.530985467128915\n",
       "\\item 10.8071643184797\n",
       "\\end{enumerate*}\n",
       "\n",
       "\\item \\begin{enumerate*}\n",
       "\\item -1.87912849332038\n",
       "\\item 5.14887250123607\n",
       "\\end{enumerate*}\n",
       "\n",
       "\\item \\begin{enumerate*}\n",
       "\\item -0.57093146691237\n",
       "\\item 10.4235341326716\n",
       "\\end{enumerate*}\n",
       "\n",
       "\\end{enumerate}\n"
      ],
      "text/markdown": [
       "1. 1. -0.530985467128915\n",
       "2. 10.8071643184797\n",
       "\n",
       "\n",
       "\n",
       "2. 1. -1.87912849332038\n",
       "2. 5.14887250123607\n",
       "\n",
       "\n",
       "\n",
       "3. 1. -0.57093146691237\n",
       "2. 10.4235341326716\n",
       "\n",
       "\n",
       "\n",
       "\n",
       "\n"
      ],
      "text/plain": [
       "[[1]]\n",
       "[1] -0.5309855 10.8071643\n",
       "\n",
       "[[2]]\n",
       "[1] -1.879128  5.148873\n",
       "\n",
       "[[3]]\n",
       "[1] -0.5709315 10.4235341\n"
      ]
     },
     "metadata": {},
     "output_type": "display_data"
    },
    {
     "data": {
      "text/html": [
       "<style>\n",
       ".list-inline {list-style: none; margin:0; padding: 0}\n",
       ".list-inline>li {display: inline-block}\n",
       ".list-inline>li:not(:last-child)::after {content: \"\\00b7\"; padding: 0 .5ex}\n",
       "</style>\n",
       "<ol class=list-inline><li>5.13808942567541</li><li>1.63487200395784</li><li>4.92630133287963</li></ol>\n"
      ],
      "text/latex": [
       "\\begin{enumerate*}\n",
       "\\item 5.13808942567541\n",
       "\\item 1.63487200395784\n",
       "\\item 4.92630133287963\n",
       "\\end{enumerate*}\n"
      ],
      "text/markdown": [
       "1. 5.13808942567541\n",
       "2. 1.63487200395784\n",
       "3. 4.92630133287963\n",
       "\n",
       "\n"
      ],
      "text/plain": [
       "[1] 5.138089 1.634872 4.926301"
      ]
     },
     "metadata": {},
     "output_type": "display_data"
    },
    {
     "data": {
      "text/html": [
       "<style>\n",
       ".list-inline {list-style: none; margin:0; padding: 0}\n",
       ".list-inline>li {display: inline-block}\n",
       ".list-inline>li:not(:last-child)::after {content: \"\\00b7\"; padding: 0 .5ex}\n",
       "</style>\n",
       "<ol class=list-inline><li>5.66907489280432</li><li>3.51400049727822</li><li>5.497232799792</li></ol>\n"
      ],
      "text/latex": [
       "\\begin{enumerate*}\n",
       "\\item 5.66907489280432\n",
       "\\item 3.51400049727822\n",
       "\\item 5.497232799792\n",
       "\\end{enumerate*}\n"
      ],
      "text/markdown": [
       "1. 5.66907489280432\n",
       "2. 3.51400049727822\n",
       "3. 5.497232799792\n",
       "\n",
       "\n"
      ],
      "text/plain": [
       "[1] 5.669075 3.514000 5.497233"
      ]
     },
     "metadata": {},
     "output_type": "display_data"
    },
    {
     "data": {
      "text/html": [
       "<ol>\n",
       "\t<li>NULL</li>\n",
       "\t<li>NULL</li>\n",
       "\t<li>NULL</li>\n",
       "\t<li>NULL</li>\n",
       "</ol>\n"
      ],
      "text/latex": [
       "\\begin{enumerate}\n",
       "\\item NULL\n",
       "\\item NULL\n",
       "\\item NULL\n",
       "\\item NULL\n",
       "\\end{enumerate}\n"
      ],
      "text/markdown": [
       "1. NULL\n",
       "2. NULL\n",
       "3. NULL\n",
       "4. NULL\n",
       "\n",
       "\n"
      ],
      "text/plain": [
       "[[1]]\n",
       "NULL\n",
       "\n",
       "[[2]]\n",
       "NULL\n",
       "\n",
       "[[3]]\n",
       "NULL\n",
       "\n",
       "[[4]]\n",
       "NULL\n"
      ]
     },
     "metadata": {},
     "output_type": "display_data"
    },
    {
     "data": {
      "text/html": [
       "<style>\n",
       ".list-inline {list-style: none; margin:0; padding: 0}\n",
       ".list-inline>li {display: inline-block}\n",
       ".list-inline>li:not(:last-child)::after {content: \"\\00b7\"; padding: 0 .5ex}\n",
       "</style>\n",
       "<ol class=list-inline><li>1</li><li>NaN</li><li>NaN</li><li>1</li></ol>\n"
      ],
      "text/latex": [
       "\\begin{enumerate*}\n",
       "\\item 1\n",
       "\\item NaN\n",
       "\\item NaN\n",
       "\\item 1\n",
       "\\end{enumerate*}\n"
      ],
      "text/markdown": [
       "1. 1\n",
       "2. NaN\n",
       "3. NaN\n",
       "4. 1\n",
       "\n",
       "\n"
      ],
      "text/plain": [
       "[1]   1 NaN NaN   1"
      ]
     },
     "metadata": {},
     "output_type": "display_data"
    },
    {
     "data": {
      "image/png": "[encoded data removed]",
      "text/plain": [
       "plot without title"
      ]
     },
     "metadata": {
      "image/png": {
       "height": 420,
       "width": 420
      }
     },
     "output_type": "display_data"
    }
   ],
   "source": [
    "bcranges\n",
    "shift = sapply(bcranges, mean)\n",
    "scale = sapply(bcranges, diff)/2\n",
    "shift\n",
    "scale\n",
    "siftScar <- function(sh, sc, dat, trans)\n",
    "    (trans(dat) - sh)/sc\n",
    "sdats = mapply(siftScar, shift, scale, dats, transs)\n",
    "\n",
    "inCircle = sqrt(sum(layer.apply(sdats, function(i) i^2)))<1\n",
    "pol = rasterToPolygons(inCircle, digits = 2, dissolve = TRUE)\n",
    "\n",
    "plot(pol)\n",
    "lapply(ForestCentre, function(i) points(i[1], i[2], pch = 4, lwd = 2, cex = 2))\n",
    "       \n",
    "ps = lapply(pol@polygons , slot , \"Polygons\")[[1]]\n",
    "coords = lapply(ps, function(x) slot(x, \"coords\"))\n",
    "\n",
    "findPntInPol <- function(pnt){\n",
    "    for (i in 1:length(coords)) {\n",
    "        test = point.in.polygon(pnt[1], pnt[2], coords[[i]][,1], coords[[i]][,2])\n",
    "        if (test) break\n",
    "    }\n",
    "    if (test) return(i) else return(NaN)\n",
    "}  \n",
    "Cpols = sapply(ForestCentre, findPntInPol)\n",
    "#if (any(is.na(Cpols)) || var(Cpol) > 0) "
   ]
  },
  {
   "cell_type": "code",
   "execution_count": 311,
   "id": "53847047",
   "metadata": {},
   "outputs": [
    {
     "data": {
      "text/html": [
       "<ol>\n",
       "\t<li>NULL</li>\n",
       "\t<li>NULL</li>\n",
       "\t<li>NULL</li>\n",
       "\t<li>NULL</li>\n",
       "</ol>\n"
      ],
      "text/latex": [
       "\\begin{enumerate}\n",
       "\\item NULL\n",
       "\\item NULL\n",
       "\\item NULL\n",
       "\\item NULL\n",
       "\\end{enumerate}\n"
      ],
      "text/markdown": [
       "1. NULL\n",
       "2. NULL\n",
       "3. NULL\n",
       "4. NULL\n",
       "\n",
       "\n"
      ],
      "text/plain": [
       "[[1]]\n",
       "NULL\n",
       "\n",
       "[[2]]\n",
       "NULL\n",
       "\n",
       "[[3]]\n",
       "NULL\n",
       "\n",
       "[[4]]\n",
       "NULL\n"
      ]
     },
     "metadata": {},
     "output_type": "display_data"
    },
    {
     "data": {
      "text/html": [
       "<style>\n",
       ".list-inline {list-style: none; margin:0; padding: 0}\n",
       ".list-inline>li {display: inline-block}\n",
       ".list-inline>li:not(:last-child)::after {content: \"\\00b7\"; padding: 0 .5ex}\n",
       "</style>\n",
       "<ol class=list-inline><li>2</li><li>2</li><li>2</li><li>2</li></ol>\n"
      ],
      "text/latex": [
       "\\begin{enumerate*}\n",
       "\\item 2\n",
       "\\item 2\n",
       "\\item 2\n",
       "\\item 2\n",
       "\\end{enumerate*}\n"
      ],
      "text/markdown": [
       "1. 2\n",
       "2. 2\n",
       "3. 2\n",
       "4. 2\n",
       "\n",
       "\n"
      ],
      "text/plain": [
       "[1] 2 2 2 2"
      ]
     },
     "metadata": {},
     "output_type": "display_data"
    },
    {
     "data": {
      "image/png": "[encoded data removed]",
      "text/plain": [
       "plot without title"
      ]
     },
     "metadata": {
      "image/png": {
       "height": 420,
       "width": 420
      }
     },
     "output_type": "display_data"
    }
   ],
   "source": [
    "i = 1\n",
    "dat = transs[[1]](dats[[1]])\n",
    "minD = min(tcen[,i]); maxD = max(tcen[,i])\n",
    "env = (dat > bcrange[1]) & (dat < bcrange[2])\n",
    "env[env == 0] = NaN\n",
    "#plot(env)\n",
    "pol = rasterToPolygons(env, digits = 2, dissolve = TRUE)\n",
    "plot(pol)\n",
    "lapply(ForestCentre, function(i) points(i[1], i[2], pch = 4, lwd = 2, cex = 2))\n",
    "       \n",
    "ps = lapply(pol@polygons , slot , \"Polygons\")[[1]]\n",
    "coords = lapply(ps, function(x) slot(x, \"coords\"))\n",
    "\n",
    "findPntInPol <- function(pnt){\n",
    "    for (i in 1:length(coords)) {\n",
    "        test = point.in.polygon(pnt[1], pnt[2], coords[[i]][,1], coords[[i]][,2])\n",
    "        if (test) break\n",
    "    }\n",
    "    if (test) return(i) else return(NaN)\n",
    "}  \n",
    "Cpols = sapply(ForestCentre, findPntInPol)\n",
    "Cpols"
   ]
  },
  {
   "cell_type": "code",
   "execution_count": 267,
   "id": "d4eb3c6f",
   "metadata": {
    "scrolled": false
   },
   "outputs": [
    {
     "data": {
      "text/html": [
       "<style>\n",
       ".list-inline {list-style: none; margin:0; padding: 0}\n",
       ".list-inline>li {display: inline-block}\n",
       ".list-inline>li:not(:last-child)::after {content: \"\\00b7\"; padding: 0 .5ex}\n",
       "</style>\n",
       "<ol class=list-inline><li>NaN</li><li>NaN</li><li>NaN</li><li>NaN</li></ol>\n"
      ],
      "text/latex": [
       "\\begin{enumerate*}\n",
       "\\item NaN\n",
       "\\item NaN\n",
       "\\item NaN\n",
       "\\item NaN\n",
       "\\end{enumerate*}\n"
      ],
      "text/markdown": [
       "1. NaN\n",
       "2. NaN\n",
       "3. NaN\n",
       "4. NaN\n",
       "\n",
       "\n"
      ],
      "text/plain": [
       "[1] NaN NaN NaN NaN"
      ]
     },
     "metadata": {},
     "output_type": "display_data"
    }
   ],
   "source": [
    "#slot(pol, \"polygons\")[[1]]\n",
    "#lapply(p[[1]], function(x) slot(x, \"area\"))\n",
    "ps = lapply(pol@polygons , slot , \"Polygons\")[[1]]\n",
    "coords = lapply(ps, function(x) slot(x, \"coords\"))\n",
    "\n",
    "findPntInPol <- function(pnt){\n",
    "    for (i in 1:length(coords)) {\n",
    "        test = point.in.polygon(pnt[1], pnt[2], coords[[i]][,1], coords[[i]][,2])\n",
    "        if (test) break\n",
    "    }\n",
    "    if (test) return(i) else return(NaN)\n",
    "}  \n",
    "Cpols = sapply(ForestCentre, findPntInPol)\n",
    "Cpols         "
   ]
  },
  {
   "cell_type": "code",
   "execution_count": 75,
   "id": "d0d4207a",
   "metadata": {},
   "outputs": [
    {
     "data": {
      "image/png": "[encoded data removed]",
      "text/plain": [
       "plot without title"
      ]
     },
     "metadata": {
      "image/png": {
       "height": 420,
       "width": 420
      }
     },
     "output_type": "display_data"
    }
   ],
   "source": [
    "\n",
    "x = ptranss[[i]](centres[,i]); y = ptranss[[j]](centres[,j])\n",
    "plot(x, y, xlim = c(0,1), ylim = c(0,1))"
   ]
  },
  {
   "cell_type": "code",
   "execution_count": null,
   "id": "356ce838",
   "metadata": {},
   "outputs": [],
   "source": [
    "dat = dats[[1]]\n"
   ]
  }
 ],
 "metadata": {
  "kernelspec": {
   "display_name": "R-3.6.3",
   "language": "R",
   "name": "ir363"
  },
  "language_info": {
   "codemirror_mode": "r",
   "file_extension": ".r",
   "mimetype": "text/x-r-source",
   "name": "R",
   "pygments_lexer": "r",
   "version": "3.6.3"
  }
 },
 "nbformat": 4,
 "nbformat_minor": 5
}
